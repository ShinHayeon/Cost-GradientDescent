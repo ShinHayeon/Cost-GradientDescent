{
 "cells": [
  {
   "cell_type": "markdown",
   "metadata": {},
   "source": [
    "### 비용 & 경사하강 & 선형회귀 인공지능 "
   ]
  },
  {
   "cell_type": "code",
   "execution_count": 5,
   "metadata": {},
   "outputs": [
    {
     "name": "stdout",
     "output_type": "stream",
     "text": [
      "0 4613171000.0 [10323.056] [2162.3125]\n",
      "500 8690110.0 [25534.64] [1964.456]\n",
      "1000 8633877.0 [25627.088] [1506.6654]\n",
      "1500 8632674.0 [25640.559] [1439.9554]\n",
      "2000 8632656.0 [25642.521] [1430.23]\n",
      "2500 8632652.0 [25642.805] [1428.8257]\n",
      "3000 8632657.0 [25642.844] [1428.6348]\n",
      "3500 8632657.0 [25642.848] [1428.6133]\n",
      "4000 8632657.0 [25642.848] [1428.6133]\n",
      "4500 8632657.0 [25642.848] [1428.6133]\n",
      "5000 8632657.0 [25642.848] [1428.6133]\n",
      "[206571.39]\n"
     ]
    }
   ],
   "source": [
    "import tensorflow.compat.v1 as tf\n",
    "tf.compat.v1.disable_eager_execution()\n",
    "\n",
    "xData = [ 1, 2, 3, 4, 5, 6, 7]\n",
    "yData = [25000, 55000, 75000, 110000, 128000, 155000, 180000]\n",
    "W = tf.Variable(tf.random_uniform([1], -100 , 100))  #V ariable : 텐서플로 내부의 그래프 자료구조에 만들어질 하나의 변수를 정의\n",
    "b = tf.Variable(tf.random_uniform([1], -100 , 100)) # random_uniform : 랜덤 -100~ 100 사이 \n",
    "X = tf.placeholder (tf.float32) # placeholder : 변수의 타입을 미리 설정한 후 나중에 변수를 넣는다. \n",
    "Y = tf.placeholder (tf.float32)\n",
    "                \n",
    "            \n",
    "H = W * X + b\n",
    "\n",
    "cost = tf.reduce_mean(tf.square(H-Y)) # square : 제곱을 계산\n",
    "                                      # reduce_mean : 전체 평균을 구함 \n",
    "a= tf.Variable(0.01) # 0.01 이란 경사하강에서 얼만큼 점프하는가를 정하는 숫자\n",
    "                     \n",
    "optimizer = tf.train.GradientDescentOptimizer(a) #텐서플로에서 제공하는 경사하강 라이브러리\n",
    "train = optimizer.minimize(cost)\n",
    "Init = tf.global_variables_initializer() #변수 초기화 \n",
    "sess= tf.Session()\n",
    "sess.run(Init)\n",
    "\n",
    "for i in range(5001) : \n",
    "    sess.run(train, feed_dict = { X: xData , Y: yData}) \n",
    "    if i % 500 == 0 :\n",
    "        print( i , sess.run(cost, feed_dict = { X: xData , Y: yData}), sess.run(W), sess.run(b) )  # b는 y절편 \n",
    "\n",
    "print (sess.run(H, feed_dict = {X  : [8] } )) #x가 8일경우 어떤 값이 나오는 지 "
   ]
  },
  {
   "cell_type": "code",
   "execution_count": null,
   "metadata": {},
   "outputs": [],
   "source": []
  }
 ],
 "metadata": {
  "kernelspec": {
   "display_name": "Python 3",
   "language": "python",
   "name": "python3"
  },
  "language_info": {
   "codemirror_mode": {
    "name": "ipython",
    "version": 3
   },
   "file_extension": ".py",
   "mimetype": "text/x-python",
   "name": "python",
   "nbconvert_exporter": "python",
   "pygments_lexer": "ipython3",
   "version": "3.7.6"
  }
 },
 "nbformat": 4,
 "nbformat_minor": 4
}
